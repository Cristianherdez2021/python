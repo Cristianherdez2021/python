{
  "nbformat": 4,
  "nbformat_minor": 0,
  "metadata": {
    "colab": {
      "name": "Práctica1.ipynb",
      "provenance": []
    },
    "kernelspec": {
      "name": "python3",
      "display_name": "Python 3"
    },
    "language_info": {
      "name": "python"
    }
  },
  "cells": [
    {
      "cell_type": "markdown",
      "metadata": {
        "id": "tr0NsZyQzDH_"
      },
      "source": [
        "mi usuario github es Cristianherdez2021"
      ]
    },
    {
      "cell_type": "code",
      "metadata": {
        "id": "krRiUQ1pzfdX"
      },
      "source": [
        "print(\"hola mundo\")"
      ],
      "execution_count": null,
      "outputs": []
    },
    {
      "cell_type": "code",
      "metadata": {
        "id": "4J-7CA5sz8dk"
      },
      "source": [
        "2 + 2 \n",
        "#comentario suma"
      ],
      "execution_count": null,
      "outputs": []
    },
    {
      "cell_type": "code",
      "metadata": {
        "colab": {
          "base_uri": "https://localhost:8080/"
        },
        "id": "L87dFGNw0fSt",
        "outputId": "8222933f-d79a-48d1-a9e3-57a6df662e70"
      },
      "source": [
        "a = 35 - 8\n",
        "a"
      ],
      "execution_count": 1,
      "outputs": [
        {
          "output_type": "execute_result",
          "data": {
            "text/plain": [
              "27"
            ]
          },
          "metadata": {},
          "execution_count": 1
        }
      ]
    },
    {
      "cell_type": "code",
      "metadata": {
        "id": "R3fPQa1M0qJW"
      },
      "source": [
        "len?"
      ],
      "execution_count": 4,
      "outputs": []
    },
    {
      "cell_type": "code",
      "metadata": {
        "colab": {
          "base_uri": "https://localhost:8080/"
        },
        "id": "I-xw8pkJ0-T8",
        "outputId": "d599a768-d98b-450b-d632-5ca92f1ee5dc"
      },
      "source": [
        "len(\"aprendizaje\")"
      ],
      "execution_count": 5,
      "outputs": [
        {
          "output_type": "execute_result",
          "data": {
            "text/plain": [
              "11"
            ]
          },
          "metadata": {},
          "execution_count": 5
        }
      ]
    },
    {
      "cell_type": "code",
      "metadata": {
        "id": "YmYfYa2X09he"
      },
      "source": [
        ""
      ],
      "execution_count": null,
      "outputs": []
    }
  ]
}